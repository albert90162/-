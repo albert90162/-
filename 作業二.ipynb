{
 "cells": [
  {
   "cell_type": "code",
   "execution_count": 1,
   "metadata": {},
   "outputs": [
    {
     "name": "stderr",
     "output_type": "stream",
     "text": [
      "Using TensorFlow backend.\n"
     ]
    }
   ],
   "source": [
    "%matplotlib inline\n",
    "\n",
    "import numpy as np\n",
    "import matplotlib.pyplot as plt\n",
    "\n",
    "from keras.datasets import mnist\n",
    "from keras.utils import np_utils\n",
    "from keras.models import Sequential\n",
    "from keras.layers import Dense,Flatten\n",
    "from keras.optimizers import SGD\n",
    "\n",
    "from ipywidgets import interact_manual"
   ]
  },
  {
   "cell_type": "code",
   "execution_count": 2,
   "metadata": {},
   "outputs": [],
   "source": [
    "#設定訓練資料和測試資料\n",
    "(x_train,y_train),(x_test,y_test) = mnist.load_data()"
   ]
  },
  {
   "cell_type": "code",
   "execution_count": 3,
   "metadata": {},
   "outputs": [],
   "source": [
    "#normalization\n",
    "x_train = x_train / 255\n",
    "x_test = x_test / 255"
   ]
  },
  {
   "cell_type": "code",
   "execution_count": 4,
   "metadata": {},
   "outputs": [],
   "source": [
    "# 1-hot coding\n",
    "y_train = np_utils.to_categorical(y_train,10)\n",
    "y_test = np_utils.to_categorical(y_test,10)"
   ]
  },
  {
   "cell_type": "code",
   "execution_count": 5,
   "metadata": {},
   "outputs": [
    {
     "name": "stdout",
     "output_type": "stream",
     "text": [
      "WARNING:tensorflow:From C:\\Users\\Albert\\Anaconda3\\lib\\site-packages\\keras\\backend\\tensorflow_backend.py:74: The name tf.get_default_graph is deprecated. Please use tf.compat.v1.get_default_graph instead.\n",
      "\n"
     ]
    }
   ],
   "source": [
    "#開始學習\n",
    "model = Sequential()"
   ]
  },
  {
   "cell_type": "code",
   "execution_count": 6,
   "metadata": {},
   "outputs": [
    {
     "name": "stdout",
     "output_type": "stream",
     "text": [
      "WARNING:tensorflow:From C:\\Users\\Albert\\Anaconda3\\lib\\site-packages\\keras\\backend\\tensorflow_backend.py:517: The name tf.placeholder is deprecated. Please use tf.compat.v1.placeholder instead.\n",
      "\n"
     ]
    }
   ],
   "source": [
    "model.add(Flatten(input_shape =(28,28)))"
   ]
  },
  {
   "cell_type": "code",
   "execution_count": 7,
   "metadata": {},
   "outputs": [
    {
     "name": "stdout",
     "output_type": "stream",
     "text": [
      "WARNING:tensorflow:From C:\\Users\\Albert\\Anaconda3\\lib\\site-packages\\keras\\backend\\tensorflow_backend.py:4138: The name tf.random_uniform is deprecated. Please use tf.random.uniform instead.\n",
      "\n"
     ]
    }
   ],
   "source": [
    "model.add(Dense(8,activation='relu'))"
   ]
  },
  {
   "cell_type": "code",
   "execution_count": 8,
   "metadata": {},
   "outputs": [],
   "source": [
    "model.add(Dense(64,activation='relu'))"
   ]
  },
  {
   "cell_type": "code",
   "execution_count": 9,
   "metadata": {},
   "outputs": [],
   "source": [
    "model.add(Dense(25,activation='relu'))"
   ]
  },
  {
   "cell_type": "code",
   "execution_count": 10,
   "metadata": {},
   "outputs": [],
   "source": [
    "model.add(Dense(125,activation='relu'))"
   ]
  },
  {
   "cell_type": "code",
   "execution_count": 11,
   "metadata": {},
   "outputs": [],
   "source": [
    "model.add(Dense(10,activation='softmax'))"
   ]
  },
  {
   "cell_type": "code",
   "execution_count": 12,
   "metadata": {},
   "outputs": [
    {
     "name": "stdout",
     "output_type": "stream",
     "text": [
      "WARNING:tensorflow:From C:\\Users\\Albert\\Anaconda3\\lib\\site-packages\\keras\\optimizers.py:790: The name tf.train.Optimizer is deprecated. Please use tf.compat.v1.train.Optimizer instead.\n",
      "\n"
     ]
    }
   ],
   "source": [
    "model.compile(loss='mse',optimizer=SGD(lr=0.23),metrics=['accuracy'])"
   ]
  },
  {
   "cell_type": "code",
   "execution_count": 13,
   "metadata": {},
   "outputs": [
    {
     "name": "stdout",
     "output_type": "stream",
     "text": [
      "_________________________________________________________________\n",
      "Layer (type)                 Output Shape              Param #   \n",
      "=================================================================\n",
      "flatten_1 (Flatten)          (None, 784)               0         \n",
      "_________________________________________________________________\n",
      "dense_1 (Dense)              (None, 8)                 6280      \n",
      "_________________________________________________________________\n",
      "dense_2 (Dense)              (None, 64)                576       \n",
      "_________________________________________________________________\n",
      "dense_3 (Dense)              (None, 25)                1625      \n",
      "_________________________________________________________________\n",
      "dense_4 (Dense)              (None, 125)               3250      \n",
      "_________________________________________________________________\n",
      "dense_5 (Dense)              (None, 10)                1260      \n",
      "=================================================================\n",
      "Total params: 12,991\n",
      "Trainable params: 12,991\n",
      "Non-trainable params: 0\n",
      "_________________________________________________________________\n"
     ]
    }
   ],
   "source": [
    "model.summary()"
   ]
  },
  {
   "cell_type": "code",
   "execution_count": 14,
   "metadata": {},
   "outputs": [
    {
     "name": "stdout",
     "output_type": "stream",
     "text": [
      "WARNING:tensorflow:From C:\\Users\\Albert\\Anaconda3\\lib\\site-packages\\keras\\backend\\tensorflow_backend.py:986: The name tf.assign_add is deprecated. Please use tf.compat.v1.assign_add instead.\n",
      "\n",
      "WARNING:tensorflow:From C:\\Users\\Albert\\Anaconda3\\lib\\site-packages\\keras\\backend\\tensorflow_backend.py:973: The name tf.assign is deprecated. Please use tf.compat.v1.assign instead.\n",
      "\n",
      "Epoch 1/30\n",
      "60000/60000 [==============================] - 5s 86us/step - loss: 0.0898 - acc: 0.1650\n",
      "Epoch 2/30\n",
      "60000/60000 [==============================] - 3s 45us/step - loss: 0.0881 - acc: 0.2899\n",
      "Epoch 3/30\n",
      "60000/60000 [==============================] - 3s 42us/step - loss: 0.0701 - acc: 0.4465\n",
      "Epoch 4/30\n",
      "60000/60000 [==============================] - 3s 43us/step - loss: 0.0321 - acc: 0.7872\n",
      "Epoch 5/30\n",
      "60000/60000 [==============================] - 3s 45us/step - loss: 0.0219 - acc: 0.8539\n",
      "Epoch 6/30\n",
      "60000/60000 [==============================] - 3s 44us/step - loss: 0.0189 - acc: 0.8757\n",
      "Epoch 7/30\n",
      "60000/60000 [==============================] - 3s 45us/step - loss: 0.0173 - acc: 0.8863\n",
      "Epoch 8/30\n",
      "60000/60000 [==============================] - 3s 45us/step - loss: 0.0162 - acc: 0.8936\n",
      "Epoch 9/30\n",
      "60000/60000 [==============================] - 3s 43us/step - loss: 0.0155 - acc: 0.8980\n",
      "Epoch 10/30\n",
      "60000/60000 [==============================] - 3s 43us/step - loss: 0.0149 - acc: 0.9023\n",
      "Epoch 11/30\n",
      "60000/60000 [==============================] - 3s 46us/step - loss: 0.0144 - acc: 0.9069\n",
      "Epoch 12/30\n",
      "60000/60000 [==============================] - 3s 51us/step - loss: 0.0140 - acc: 0.9092\n",
      "Epoch 13/30\n",
      "60000/60000 [==============================] - 3s 44us/step - loss: 0.0136 - acc: 0.9116\n",
      "Epoch 14/30\n",
      "60000/60000 [==============================] - 3s 45us/step - loss: 0.0132 - acc: 0.9142\n",
      "Epoch 15/30\n",
      "60000/60000 [==============================] - 3s 44us/step - loss: 0.0130 - acc: 0.9161\n",
      "Epoch 16/30\n",
      "60000/60000 [==============================] - 3s 52us/step - loss: 0.0126 - acc: 0.9185\n",
      "Epoch 17/30\n",
      "60000/60000 [==============================] - 3s 45us/step - loss: 0.0124 - acc: 0.9208\n",
      "Epoch 18/30\n",
      "60000/60000 [==============================] - 3s 45us/step - loss: 0.0121 - acc: 0.9227\n",
      "Epoch 19/30\n",
      "60000/60000 [==============================] - 3s 46us/step - loss: 0.0118 - acc: 0.9239\n",
      "Epoch 20/30\n",
      "60000/60000 [==============================] - 3s 49us/step - loss: 0.0116 - acc: 0.9253\n",
      "Epoch 21/30\n",
      "60000/60000 [==============================] - 3s 47us/step - loss: 0.0114 - acc: 0.9275\n",
      "Epoch 22/30\n",
      "60000/60000 [==============================] - 3s 44us/step - loss: 0.0111 - acc: 0.9291\n",
      "Epoch 23/30\n",
      "60000/60000 [==============================] - 3s 43us/step - loss: 0.0109 - acc: 0.9302\n",
      "Epoch 24/30\n",
      "60000/60000 [==============================] - 3s 45us/step - loss: 0.0107 - acc: 0.9318\n",
      "Epoch 25/30\n",
      "60000/60000 [==============================] - 3s 50us/step - loss: 0.0105 - acc: 0.9329\n",
      "Epoch 26/30\n",
      "60000/60000 [==============================] - 3s 44us/step - loss: 0.0104 - acc: 0.9345\n",
      "Epoch 27/30\n",
      "60000/60000 [==============================] - 3s 44us/step - loss: 0.0102 - acc: 0.9350\n",
      "Epoch 28/30\n",
      "60000/60000 [==============================] - 3s 47us/step - loss: 0.0100 - acc: 0.9363\n",
      "Epoch 29/30\n",
      "60000/60000 [==============================] - 3s 45us/step - loss: 0.0099 - acc: 0.9367\n",
      "Epoch 30/30\n",
      "60000/60000 [==============================] - 3s 45us/step - loss: 0.0097 - acc: 0.9382\n"
     ]
    },
    {
     "data": {
      "text/plain": [
       "<keras.callbacks.History at 0x1f3b9360c50>"
      ]
     },
     "execution_count": 14,
     "metadata": {},
     "output_type": "execute_result"
    }
   ],
   "source": [
    "model.fit(x_train,y_train,batch_size=100,epochs=30)"
   ]
  },
  {
   "cell_type": "code",
   "execution_count": 15,
   "metadata": {},
   "outputs": [],
   "source": [
    "predict = model.predict_classes(x_test)"
   ]
  },
  {
   "cell_type": "code",
   "execution_count": 18,
   "metadata": {},
   "outputs": [],
   "source": [
    "def test(測試編號):\n",
    "    plt.imshow(x_test[測試編號],cmap='Greys')\n",
    "    print('神經網路判斷為:',predict[測試編號])"
   ]
  },
  {
   "cell_type": "code",
   "execution_count": 19,
   "metadata": {},
   "outputs": [
    {
     "data": {
      "application/vnd.jupyter.widget-view+json": {
       "model_id": "04320e7c6bbb4fdca1d90b7befb80cde",
       "version_major": 2,
       "version_minor": 0
      },
      "text/plain": [
       "interactive(children=(IntSlider(value=4999, description='測試編號', max=9999), Button(description='Run Interact', …"
      ]
     },
     "metadata": {},
     "output_type": "display_data"
    },
    {
     "data": {
      "text/plain": [
       "<function __main__.test(測試編號)>"
      ]
     },
     "execution_count": 19,
     "metadata": {},
     "output_type": "execute_result"
    }
   ],
   "source": [
    "interact_manual(test,測試編號=(0,9999))"
   ]
  },
  {
   "cell_type": "code",
   "execution_count": 20,
   "metadata": {},
   "outputs": [
    {
     "name": "stdout",
     "output_type": "stream",
     "text": [
      "10000/10000 [==============================] - 1s 59us/step\n"
     ]
    }
   ],
   "source": [
    "score = model.evaluate(x_test,y_test)"
   ]
  },
  {
   "cell_type": "code",
   "execution_count": 21,
   "metadata": {},
   "outputs": [
    {
     "data": {
      "text/plain": [
       "0.9317"
      ]
     },
     "execution_count": 21,
     "metadata": {},
     "output_type": "execute_result"
    }
   ],
   "source": [
    "score[1]"
   ]
  },
  {
   "cell_type": "code",
   "execution_count": null,
   "metadata": {},
   "outputs": [],
   "source": []
  }
 ],
 "metadata": {
  "kernelspec": {
   "display_name": "Python 3",
   "language": "python",
   "name": "python3"
  },
  "language_info": {
   "codemirror_mode": {
    "name": "ipython",
    "version": 3
   },
   "file_extension": ".py",
   "mimetype": "text/x-python",
   "name": "python",
   "nbconvert_exporter": "python",
   "pygments_lexer": "ipython3",
   "version": "3.7.3"
  }
 },
 "nbformat": 4,
 "nbformat_minor": 2
}
